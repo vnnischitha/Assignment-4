{
 "cells": [
  {
   "cell_type": "code",
   "execution_count": 1,
   "metadata": {},
   "outputs": [
    {
     "name": "stdout",
     "output_type": "stream",
     "text": [
      "28\n"
     ]
    }
   ],
   "source": [
    "def max_of_three( x, y, z ):\n",
    "    if (x >= y) and (x >= z): \n",
    "        max = x \n",
    "    elif (y >= x) and (y >= z): \n",
    "        max = y \n",
    "    else: \n",
    "        max = z\n",
    "    return max\n",
    "x=6\n",
    "y=28\n",
    "z=-7\n",
    "print(max_of_three( x, y, z))"
   ]
  },
  {
   "cell_type": "code",
   "execution_count": 2,
   "metadata": {},
   "outputs": [
    {
     "name": "stdout",
     "output_type": "stream",
     "text": [
      "The original string  is : Gitam\n",
      "The reversed string is : matiG\n"
     ]
    }
   ],
   "source": [
    "def reverse(s): \n",
    "    str = \"\" \n",
    "    for i in s: \n",
    "           str = i + str\n",
    "    return str\n",
    "  \n",
    "s = \"Gitam\"\n",
    "  \n",
    "print (\"The original string  is : \",end=\"\") \n",
    "print (s) \n",
    "  \n",
    "print (\"The reversed string is : \",end=\"\") \n",
    "print (reverse(s))"
   ]
  },
  {
   "cell_type": "code",
   "execution_count": 3,
   "metadata": {},
   "outputs": [
    {
     "name": "stdout",
     "output_type": "stream",
     "text": [
      "True\n"
     ]
    }
   ],
   "source": [
    "def test_prime(n):\n",
    "    if (n==1):\n",
    "        return False\n",
    "    elif (n==2):\n",
    "        return True;\n",
    "    else:\n",
    "        for x in range(2,n):\n",
    "            if(n % x==0):\n",
    "                return False\n",
    "        return True             \n",
    "print(test_prime(5))"
   ]
  },
  {
   "cell_type": "code",
   "execution_count": 4,
   "metadata": {},
   "outputs": [
    {
     "name": "stdout",
     "output_type": "stream",
     "text": [
      "Enter any number44\n",
      "given number is palindrome\n"
     ]
    }
   ],
   "source": [
    "num=input(\"Enter any number\")\n",
    "try:\n",
    "    x=int(num)\n",
    "    if num==num[::-1]:\n",
    "        print(\"given number is palindrome\")\n",
    "    else:\n",
    "        print(\"given number is not palindrome\")\n",
    "except:\n",
    "    print(\"invalid number\")"
   ]
  },
  {
   "cell_type": "code",
   "execution_count": 5,
   "metadata": {},
   "outputs": [
    {
     "name": "stdout",
     "output_type": "stream",
     "text": [
      "285\n"
     ]
    }
   ],
   "source": [
    "def squaresum(n) :\n",
    "    return (n * (n + 1) * (2 * n + 1)) // 6\n",
    "n = 9\n",
    "print(squaresum(n))"
   ]
  },
  {
   "cell_type": "code",
   "execution_count": null,
   "metadata": {},
   "outputs": [],
   "source": []
  }
 ],
 "metadata": {
  "kernelspec": {
   "display_name": "Python 3",
   "language": "python",
   "name": "python3"
  },
  "language_info": {
   "codemirror_mode": {
    "name": "ipython",
    "version": 3
   },
   "file_extension": ".py",
   "mimetype": "text/x-python",
   "name": "python",
   "nbconvert_exporter": "python",
   "pygments_lexer": "ipython3",
   "version": "3.8.3"
  }
 },
 "nbformat": 4,
 "nbformat_minor": 4
}
